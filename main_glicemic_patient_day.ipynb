{
 "cells": [
  {
   "cell_type": "code",
   "execution_count": null,
   "metadata": {},
   "outputs": [],
   "source": [
    "import numpy as np\n",
    "import pandas as pd\n",
    "import datetime\n",
    "import matplotlib.pyplot as plt\n"
   ]
  },
  {
   "cell_type": "code",
   "execution_count": null,
   "metadata": {},
   "outputs": [],
   "source": [
    "%matplotlib inline"
   ]
  },
  {
   "cell_type": "code",
   "execution_count": 3,
   "metadata": {},
   "outputs": [],
   "source": [
    "#Ler os Arquivos da planil;ha da Abbot e a lista com os Ids dos pacientes diabéticos\n",
    "#Read Abbot Spreadsheet Files and Diabetes Patient ID List"
   ]
  },
  {
   "cell_type": "code",
   "execution_count": 4,
   "metadata": {},
   "outputs": [],
   "source": [
    "df = pd.read_csv(\"planilha.csv\", low_memory=False)\n",
    "df_diabeticos =pd.read_excel(\"diabeticos.xls\")"
   ]
  },
  {
   "cell_type": "code",
   "execution_count": 5,
   "metadata": {},
   "outputs": [],
   "source": [
    "#Pegamos a coluna com os Ids da planilha dos diabeticos e a transformamos em uma lista(str) de Ids. Achamamos de l a usaremos depois"
   ]
  },
  {
   "cell_type": "code",
   "execution_count": 6,
   "metadata": {},
   "outputs": [],
   "source": [
    "df_dm = df_diabeticos[['prontuário']]\n",
    "l = list(df_dm.prontuário.astype('str'))"
   ]
  },
  {
   "cell_type": "code",
   "execution_count": 7,
   "metadata": {},
   "outputs": [],
   "source": [
    "#Criamos aqui um DataFrame somente com as colunas que desejamos e renomeamos as colunas\n",
    "#We create a DataFrame here with just the columns we want and rename the columns"
   ]
  },
  {
   "cell_type": "code",
   "execution_count": 8,
   "metadata": {},
   "outputs": [],
   "source": [
    "df = df[['Patient ID', 'Test Date/Time', 'GLU','Excluded']]\n",
    "df.columns = ['id', 'date', 'glucose', 'excluded']"
   ]
  },
  {
   "cell_type": "code",
   "execution_count": 9,
   "metadata": {},
   "outputs": [],
   "source": [
    "#Excluimos as linhas onde 'excluded'='No'\n",
    "#We exclude lines where 'excluded' = 'No"
   ]
  },
  {
   "cell_type": "code",
   "execution_count": 10,
   "metadata": {},
   "outputs": [],
   "source": [
    "df = df[df['excluded']=='No']"
   ]
  },
  {
   "cell_type": "code",
   "execution_count": 11,
   "metadata": {},
   "outputs": [],
   "source": [
    "df = df.drop('excluded',axis=1)"
   ]
  },
  {
   "cell_type": "code",
   "execution_count": 12,
   "metadata": {},
   "outputs": [],
   "source": [
    "#As celulas onde 'glucose>500'sao trocadas por 500 e '<20'por 20"
   ]
  },
  {
   "cell_type": "code",
   "execution_count": 13,
   "metadata": {},
   "outputs": [],
   "source": [
    "#df[df['glucose']=='>500'] = \"500\"\n",
    "\n",
    "i = df[df['glucose']=='>500'].index\n",
    "df.loc[i,'glucose']=\"500\"\n",
    "\n",
    "#df[df['glucose']=='<20'] = \"20\"\n",
    "i = df[df['glucose']=='<20'].index\n",
    "df.loc[i,'glucose'] = \"20\"\n",
    "\n",
    "df = df\n"
   ]
  },
  {
   "cell_type": "code",
   "execution_count": 14,
   "metadata": {},
   "outputs": [],
   "source": [
    "#Fazemos um slice da string 'date' dos 10 primeiros digitos\n"
   ]
  },
  {
   "cell_type": "code",
   "execution_count": 15,
   "metadata": {},
   "outputs": [],
   "source": [
    "df['date'] = df.date.str.slice(0,10)\n"
   ]
  },
  {
   "cell_type": "code",
   "execution_count": null,
   "metadata": {},
   "outputs": [],
   "source": [
    "\n"
   ]
  },
  {
   "cell_type": "code",
   "execution_count": 16,
   "metadata": {},
   "outputs": [],
   "source": [
    "#Transformamos o object date em datetime64 com formato d/m/yyyy\n",
    "#Transformamos o objeto glucose em integer64\n",
    "#Adicionamos ass colunas 'day', 'month' e 'year' com os respectivos dia, mes e ano da coluna 'date'"
   ]
  },
  {
   "cell_type": "code",
   "execution_count": 17,
   "metadata": {},
   "outputs": [],
   "source": [
    "df['id'] = df.id.astype('str')\n",
    "df['date']= pd.to_datetime(df['date'],format = '%d/%m/%Y')\n",
    "df['glucose'] = df.glucose.astype('float64')\n",
    "df['day'] = df['date'].dt.day\n",
    "df['month'] = df['date'].dt.month\n",
    "df['year'] = df['date'].dt.year\n",
    "#df.dtypes"
   ]
  },
  {
   "cell_type": "code",
   "execution_count": 18,
   "metadata": {},
   "outputs": [],
   "source": [
    "#Criamos uma coluna boleana no DataFrame 'df' chamada 'diabetico?' e percorremos a lista de 'Id's de diabetico para definir se o paciente em questao é ou nao é diabético"
   ]
  },
  {
   "cell_type": "code",
   "execution_count": 19,
   "metadata": {},
   "outputs": [],
   "source": [
    "df['diabetico?'] = list(map(lambda x : x in l , df['id']))"
   ]
  },
  {
   "cell_type": "code",
   "execution_count": null,
   "metadata": {},
   "outputs": [],
   "source": []
  },
  {
   "cell_type": "code",
   "execution_count": 20,
   "metadata": {},
   "outputs": [],
   "source": [
    "#Filtramos a lista para somente pacientes diabéticos\n",
    "#Atualizamos DataFrame 'df'"
   ]
  },
  {
   "cell_type": "code",
   "execution_count": null,
   "metadata": {},
   "outputs": [],
   "source": []
  },
  {
   "cell_type": "code",
   "execution_count": 21,
   "metadata": {},
   "outputs": [],
   "source": [
    "#Selecionamos as colunas 'year', 'month', 'day', 'glucose'"
   ]
  },
  {
   "cell_type": "code",
   "execution_count": 22,
   "metadata": {},
   "outputs": [],
   "source": [
    "df2 =df[['year','month','day','id','glucose','diabetico?']]"
   ]
  },
  {
   "cell_type": "code",
   "execution_count": 23,
   "metadata": {},
   "outputs": [],
   "source": [
    "#Retiramos todos os registros onde 'id' é vazio\n",
    "#Retiramos todos os registros onde 'id' nao é um valos numérico"
   ]
  },
  {
   "cell_type": "code",
   "execution_count": 24,
   "metadata": {},
   "outputs": [],
   "source": [
    "df3=df2.dropna()\n",
    "df_final = df3[df3['id'].str.isnumeric()]\n"
   ]
  },
  {
   "cell_type": "code",
   "execution_count": 28,
   "metadata": {},
   "outputs": [],
   "source": [
    "def analisar(df_final):\n",
    "    df_final = df_final[['year', 'month', 'day','id', 'glucose']]\n",
    "    \n",
    "    df_hipoglicemia = df_final[(df_final['glucose']<=70) & (df_final['glucose']>40)]\n",
    "    df_hipoglicemia_grave = df_final[df_final['glucose']<=40]\n",
    "    df_hiperglicemia = df_final[(df_final['glucose']>=180) & (df_final['glucose']<300)]\n",
    "    df_hiperglicemia_grave = df_final[df_final['glucose']>=300]\n",
    "    \n",
    "    grouped = df_final.groupby(['year', 'month','day','id']).count()\n",
    "    g= grouped.groupby(['year','month','day']).count()\n",
    "#g.columns= ['y','m','d','patient_days']\n",
    "    patient_days_total = g.groupby(['year','month']).sum()\n",
    "    \n",
    "    grouped = df_hipoglicemia.groupby(['year', 'month','day','id']).count()\n",
    "    g= grouped.groupby(['year','month','day']).count()\n",
    "#g.columns= ['y','m','d','patient_days']\n",
    "    patient_days_hipo = g.groupby(['year','month']).sum()\n",
    "    \n",
    "    grouped = df_hiperglicemia.groupby(['year', 'month','day','id']).count()\n",
    "    g= grouped.groupby(['year','month','day']).count()\n",
    "#g.columns= ['y','m','d','patient_days']\n",
    "    patient_days_hiper = g.groupby(['year','month']).sum()\n",
    "    \n",
    "    grouped = df_hiperglicemia_grave.groupby(['year', 'month','day','id']).count()\n",
    "    g= grouped.groupby(['year','month','day']).count()\n",
    "#g.columns= ['y','m','d','patient_days']\n",
    "    patient_days_hiper_grave = g.groupby(['year','month']).sum()\n",
    "    \n",
    "    grouped = df_hipoglicemia_grave.groupby(['year', 'month','day','id']).count()\n",
    "    g= grouped.groupby(['year','month','day']).count()\n",
    "#g.columns= ['y','m','d','patient_days']\n",
    "    patient_days_hipo_grave = g.groupby(['year','month']).sum()\n",
    "    \n",
    "    frequencia_hipo_grave = patient_days_hipo_grave['glucose']/patient_days_total['glucose']*100\n",
    "    frequencia_hipo = patient_days_hipo['glucose']/ patient_days_total['glucose']*100\n",
    "    frequencia_hiper = patient_days_hiper['glucose']/patient_days_total['glucose']*100\n",
    "    frequencia_hiper_grave = patient_days_hiper_grave['glucose']/patient_days_total['glucose']*100\n",
    "    \n",
    "    frequencia_hipo_grave = frequencia_hipo_grave.reset_index()\n",
    "    frequencia_hipo_grave = frequencia_hipo_grave.rename(columns={'glucose':'%'})\n",
    "    \n",
    "    \n",
    "    frequencia_hipo = frequencia_hipo.reset_index()\n",
    "    frequencia_hipo = frequencia_hipo.rename(columns={'glucose':'%'})\n",
    "    \n",
    "    \n",
    "    frequencia_hiper_grave = frequencia_hiper_grave.reset_index()\n",
    "    frequencia_hiper_grave = frequencia_hiper_grave.rename(columns={'glucose':'%'})\n",
    "    \n",
    "    \n",
    "    frequencia_hiper = frequencia_hiper.reset_index()\n",
    "    frequencia_hiper = frequencia_hiper.rename(columns={'glucose':'%'})\n",
    "    \n",
    "    \n",
    "    mean_glucose = df_final.groupby(['year', 'month','day']).mean()  \n",
    "    mean_glucose_month = mean_glucose.groupby(['year','month']).mean()\n",
    "    mean_glucose_month = mean_glucose_month.reset_index()\n",
    "    \n",
    "#export = export.to_csv('export.csv', encoding='utf-8', index=False)\n",
    "    writer = pd.ExcelWriter('export.xlsx', engine='xlsxwriter')\n",
    "    frequencia_hiper.to_excel(writer,sheet_name='% de Hiperglicemia')\n",
    "    frequencia_hiper_grave.to_excel(writer,sheet_name='% de Hiperglicemia grave')\n",
    "    frequencia_hipo.to_excel(writer,sheet_name='% de Hipoglicemia')\n",
    "    frequencia_hipo_grave.to_excel(writer,sheet_name='% de Hipoglicemia grave')\n",
    "    mean_glucose_month.to_excel(writer,sheet_name='Media de glicemias')\n",
    "    frequencia_hiper.to_excel(writer)\n",
    "    \n",
    "    print ()\n",
    "    print('Media das glicemias')\n",
    "    print(mean_glucose_month)\n",
    "    print ()\n",
    "    print('Frequencia de hiperglicemia (Glicose >=180 e <300mg/dl) em pacientes.dia')\n",
    "    print (frequencia_hiper)\n",
    "    print (grafico_percentuais(frequencia_hiper))\n",
    "    print ()\n",
    "    print ('Frequencia de hiperglicemia grave (Glicose >=300mg/dl) em pacientes.dia')\n",
    "    print (frequencia_hiper_grave)\n",
    "    print (grafico_percentuais(frequencia_hiper_grave))\n",
    "    print ()\n",
    "    print ('Frequencia de hipoglicemia (Glicose <=70mg/dl e >40mg/dl) em pacientes.dia')\n",
    "    print (frequencia_hipo)\n",
    "    print (grafico_percentuais(frequencia_hipo))\n",
    "    print ()\n",
    "    print ('Frequencia de hipoglicemia grave (Glicose <=40mg/dl) em pacientes.dia')\n",
    "    print (frequencia_hipo_grave)\n",
    "    print (grafico_percentuais(frequencia_hipo_grave))\n",
    "    print ()\n",
    "   \n",
    "    "
   ]
  },
  {
   "cell_type": "code",
   "execution_count": null,
   "metadata": {},
   "outputs": [],
   "source": []
  },
  {
   "cell_type": "code",
   "execution_count": 29,
   "metadata": {},
   "outputs": [
    {
     "name": "stdout",
     "output_type": "stream",
     "text": [
      "Todos os pacientes\n",
      "\n",
      "Media das glicemias\n",
      "   year  month     glucose\n",
      "0  2019      3  143.889114\n",
      "1  2019      4  146.719751\n",
      "2  2019      5  145.268175\n",
      "3  2019      6  149.772292\n",
      "4  2019      7  144.482217\n",
      "5  2019      8  145.772706\n",
      "6  2019      9  144.601006\n",
      "7  2019     10  144.948187\n",
      "\n",
      "Frequencia de hiperglicemia (Glicose >=180 e <300mg/dl) em pacientes.dia\n",
      "   year  month          %\n",
      "0  2019      3  26.156482\n",
      "1  2019      4  27.906977\n",
      "2  2019      5  28.435568\n",
      "3  2019      6  29.926673\n",
      "4  2019      7  27.205882\n",
      "5  2019      8  28.156182\n",
      "6  2019      9  27.150428\n",
      "7  2019     10  28.547439\n",
      "None\n",
      "\n",
      "Frequencia de hiperglicemia grave (Glicose >=300mg/dl) em pacientes.dia\n",
      "   year  month         %\n",
      "0  2019      3  4.283267\n",
      "1  2019      4  3.573454\n",
      "2  2019      5  3.661436\n",
      "3  2019      6  6.691109\n",
      "4  2019      7  4.319853\n",
      "5  2019      8  3.644252\n",
      "6  2019      9  4.402772\n",
      "7  2019     10  3.820319\n",
      "None\n",
      "\n",
      "Frequencia de hipoglicemia (Glicose <=70mg/dl e >40mg/dl) em pacientes.dia\n",
      "   year  month         %\n",
      "0  2019      3  3.426613\n",
      "1  2019      4  2.382303\n",
      "2  2019      5  2.662863\n",
      "3  2019      6  2.978918\n",
      "4  2019      7  2.803309\n",
      "5  2019      8  3.210412\n",
      "6  2019      9  2.935181\n",
      "7  2019     10  4.030227\n",
      "None\n",
      "\n",
      "Frequencia de hipoglicemia grave (Glicose <=40mg/dl) em pacientes.dia\n",
      "   year  month         %\n",
      "0  2019      3  0.571102\n",
      "1  2019      4  0.397050\n",
      "2  2019      5  0.285307\n",
      "3  2019      6  0.458295\n",
      "4  2019      7  0.275735\n",
      "5  2019      8  0.347072\n",
      "6  2019      9  0.163066\n",
      "7  2019     10  0.377834\n",
      "None\n",
      "\n"
     ]
    },
    {
     "data": {
      "image/png": "[encoded data removed]",
      "text/plain": [
       "<Figure size 432x288 with 1 Axes>"
      ]
     },
     "metadata": {},
     "output_type": "display_data"
    }
   ],
   "source": [
    "print('Todos os pacientes')\n",
    "analisar(df_final)"
   ]
  },
  {
   "cell_type": "code",
   "execution_count": 30,
   "metadata": {},
   "outputs": [
    {
     "name": "stdout",
     "output_type": "stream",
     "text": [
      "Apenas em pacientes diabeticos\n",
      "\n",
      "\n",
      "Media das glicemias\n",
      "   year  month     glucose\n",
      "0  2019      3  167.138090\n",
      "1  2019      4  165.055303\n",
      "2  2019      5  172.232640\n",
      "3  2019      6  180.795301\n",
      "4  2019      7  161.739668\n",
      "5  2019      8  161.211664\n",
      "6  2019      9  164.994131\n",
      "7  2019     10  163.287203\n",
      "\n",
      "Frequencia de hiperglicemia (Glicose >=180 e <300mg/dl) em pacientes.dia\n",
      "   year  month          %\n",
      "0  2019      3  53.343239\n",
      "1  2019      4  48.345324\n",
      "2  2019      5  56.622114\n",
      "3  2019      6  58.769634\n",
      "4  2019      7  46.868687\n",
      "5  2019      8  45.026178\n",
      "6  2019      9  45.906164\n",
      "7  2019     10  50.419287\n",
      "None\n",
      "\n",
      "Frequencia de hiperglicemia grave (Glicose >=300mg/dl) em pacientes.dia\n",
      "   year  month          %\n",
      "0  2019      3  10.401189\n",
      "1  2019      4   8.201439\n",
      "2  2019      5   8.626974\n",
      "3  2019      6  16.361257\n",
      "4  2019      7   8.989899\n",
      "5  2019      8   6.719023\n",
      "6  2019      9   8.831647\n",
      "7  2019     10   6.603774\n",
      "None\n",
      "\n",
      "Frequencia de hipoglicemia (Glicose <=70mg/dl e >40mg/dl) em pacientes.dia\n",
      "   year  month         %\n",
      "0  2019      3  5.200594\n",
      "1  2019      4  2.877698\n",
      "2  2019      5  2.065614\n",
      "3  2019      6  2.748691\n",
      "4  2019      7  2.626263\n",
      "5  2019      8  3.664921\n",
      "6  2019      9  3.219871\n",
      "7  2019     10  4.297694\n",
      "None\n",
      "\n",
      "Frequencia de hipoglicemia grave (Glicose <=40mg/dl) em pacientes.dia\n",
      "   year  month         %\n",
      "0  2019      3  0.594354\n",
      "1  2019      4  0.431655\n",
      "2  2019      5  0.364520\n",
      "3  2019      6  0.261780\n",
      "4  2019      7  0.404040\n",
      "5  2019      8  0.349040\n",
      "6  2019      9  0.183993\n",
      "7  2019     10  0.419287\n",
      "None\n",
      "\n"
     ]
    },
    {
     "data": {
      "image/png": "[encoded data removed]",
      "text/plain": [
       "<Figure size 432x288 with 1 Axes>"
      ]
     },
     "metadata": {},
     "output_type": "display_data"
    }
   ],
   "source": [
    "print ('Apenas em pacientes diabeticos')\n",
    "print()\n",
    "analisar(df_final[df_final['diabetico?']==True])"
   ]
  },
  {
   "cell_type": "code",
   "execution_count": null,
   "metadata": {},
   "outputs": [],
   "source": []
  },
  {
   "cell_type": "code",
   "execution_count": 27,
   "metadata": {},
   "outputs": [],
   "source": [
    "def grafico_percentuais(dataFrame):\n",
    "    x = list(dataFrame['%'])\n",
    "    y = list(dataFrame['month'])\n",
    "    plt.plot(y,x,'-')\n",
    "    plt.xlabel('Mes')\n",
    "    plt.ylabel('%')\n",
    "    plt.title('Frequencia')"
   ]
  },
  {
   "cell_type": "code",
   "execution_count": null,
   "metadata": {},
   "outputs": [],
   "source": [
    "\n"
   ]
  },
  {
   "cell_type": "code",
   "execution_count": null,
   "metadata": {},
   "outputs": [],
   "source": []
  },
  {
   "cell_type": "code",
   "execution_count": null,
   "metadata": {},
   "outputs": [],
   "source": []
  },
  {
   "cell_type": "code",
   "execution_count": null,
   "metadata": {},
   "outputs": [],
   "source": [
    "    "
   ]
  },
  {
   "cell_type": "code",
   "execution_count": null,
   "metadata": {},
   "outputs": [],
   "source": [
    "    "
   ]
  },
  {
   "cell_type": "code",
   "execution_count": null,
   "metadata": {},
   "outputs": [],
   "source": [
    "    "
   ]
  },
  {
   "cell_type": "code",
   "execution_count": null,
   "metadata": {},
   "outputs": [],
   "source": [
    "    "
   ]
  },
  {
   "cell_type": "code",
   "execution_count": null,
   "metadata": {},
   "outputs": [],
   "source": [
    "    "
   ]
  },
  {
   "cell_type": "code",
   "execution_count": null,
   "metadata": {},
   "outputs": [],
   "source": []
  },
  {
   "cell_type": "code",
   "execution_count": null,
   "metadata": {},
   "outputs": [],
   "source": [
    "    "
   ]
  },
  {
   "cell_type": "code",
   "execution_count": null,
   "metadata": {},
   "outputs": [],
   "source": [
    "    "
   ]
  },
  {
   "cell_type": "code",
   "execution_count": null,
   "metadata": {},
   "outputs": [],
   "source": []
  },
  {
   "cell_type": "code",
   "execution_count": null,
   "metadata": {},
   "outputs": [],
   "source": [
    "   "
   ]
  },
  {
   "cell_type": "code",
   "execution_count": null,
   "metadata": {},
   "outputs": [],
   "source": []
  },
  {
   "cell_type": "code",
   "execution_count": null,
   "metadata": {},
   "outputs": [],
   "source": [
    "#export = frequencia_hiper.to_csv('export.csv', encoding='utf-8', index=False)\n",
    "                                   "
   ]
  },
  {
   "cell_type": "code",
   "execution_count": null,
   "metadata": {},
   "outputs": [],
   "source": [
    "#frequencia_hipo"
   ]
  },
  {
   "cell_type": "code",
   "execution_count": null,
   "metadata": {},
   "outputs": [],
   "source": [
    " "
   ]
  },
  {
   "cell_type": "code",
   "execution_count": null,
   "metadata": {},
   "outputs": [],
   "source": []
  },
  {
   "cell_type": "code",
   "execution_count": null,
   "metadata": {},
   "outputs": [],
   "source": []
  },
  {
   "cell_type": "code",
   "execution_count": null,
   "metadata": {},
   "outputs": [],
   "source": [
    "#mean_glucose_month"
   ]
  },
  {
   "cell_type": "code",
   "execution_count": null,
   "metadata": {},
   "outputs": [],
   "source": []
  },
  {
   "cell_type": "code",
   "execution_count": null,
   "metadata": {},
   "outputs": [],
   "source": [
    "#Agora fazemos a media mensal das glicemias, fazendo a media das medias dos dias "
   ]
  },
  {
   "cell_type": "code",
   "execution_count": null,
   "metadata": {},
   "outputs": [],
   "source": [
    "avarege_glucose_by_month = mean_glucose.groupby(['year','month']).mean()\n",
    "avarege_glucose_by_month"
   ]
  },
  {
   "cell_type": "code",
   "execution_count": null,
   "metadata": {},
   "outputs": [],
   "source": []
  },
  {
   "cell_type": "code",
   "execution_count": null,
   "metadata": {},
   "outputs": [],
   "source": [
    "list_avarege_glucose= []\n",
    "for i in range (len(avarege_glucose_by_month)):\n",
    "    list_avarege_glucose.append((avarege_glucose_by_month.index[i][1],int(np.array(avarege_glucose_by_month)[i])))\n",
    "   \n",
    "    \n",
    "print(list_avarege_glucose)"
   ]
  },
  {
   "cell_type": "code",
   "execution_count": null,
   "metadata": {},
   "outputs": [],
   "source": [
    "x = list(map(lambda x : x[0],list_avarege_glucose))\n",
    "x"
   ]
  },
  {
   "cell_type": "code",
   "execution_count": null,
   "metadata": {},
   "outputs": [],
   "source": [
    "y = list(map(lambda y : y[1], list_avarege_glucose))\n",
    "y"
   ]
  },
  {
   "cell_type": "code",
   "execution_count": null,
   "metadata": {},
   "outputs": [],
   "source": [
    "plt.plot(x,y,'r*')\n"
   ]
  },
  {
   "cell_type": "code",
   "execution_count": null,
   "metadata": {},
   "outputs": [],
   "source": [
    "#PARTE 2\n",
    "#Calculo da frequencia de hipoglicemia"
   ]
  },
  {
   "cell_type": "code",
   "execution_count": null,
   "metadata": {},
   "outputs": [],
   "source": [
    "#Filtramos todas as glicemias com valores menores que 70"
   ]
  },
  {
   "cell_type": "code",
   "execution_count": null,
   "metadata": {},
   "outputs": [],
   "source": [
    "filter = df[df['glucose']<70]\n",
    "filter = filter[['id','year','month','day', 'glucose']]"
   ]
  },
  {
   "cell_type": "code",
   "execution_count": null,
   "metadata": {},
   "outputs": [],
   "source": [
    "#Retiramos todas os registros com 'id' nulo"
   ]
  },
  {
   "cell_type": "code",
   "execution_count": null,
   "metadata": {},
   "outputs": [],
   "source": [
    "df_glucose_less_70 = filter.drop(filter[pd.isna(filter['id'])].index,axis=0)\n",
    "df_glucose_less_70\n",
    "#df_glucose_less_70.head()"
   ]
  },
  {
   "cell_type": "code",
   "execution_count": null,
   "metadata": {},
   "outputs": [],
   "source": [
    "# Agrupa por ano, mes, dia e id e conta quantos episodios de hipoglicemia cada 'id' teve no dia "
   ]
  },
  {
   "cell_type": "code",
   "execution_count": null,
   "metadata": {},
   "outputs": [],
   "source": [
    "first_group = df_glucose_less_70.groupby(['year', 'month','day','id']).count()\n",
    "first_group"
   ]
  },
  {
   "cell_type": "code",
   "execution_count": null,
   "metadata": {},
   "outputs": [],
   "source": [
    "#Como nos interessa apenas o paciente dia, varios episodios de hipoglicemia no mesmo dia sao contabilizados como apenas 1 episodio\n",
    "#Portanto agrupamos novamente por Ano e Mes e contamos quantos ids existem em cada mes de first_group"
   ]
  },
  {
   "cell_type": "code",
   "execution_count": null,
   "metadata": {},
   "outputs": [],
   "source": [
    "df_num_of_cases_of_hipoglicemia_by_month_in_patient_days = first_group.groupby(['year', 'month']).glucose.count()\n",
    "numerator = df_num_of_cases_of_hipoglicemia_by_month_in_patient_days\n",
    "numerator"
   ]
  },
  {
   "cell_type": "code",
   "execution_count": null,
   "metadata": {},
   "outputs": [],
   "source": [
    "#PARTE 3 - Para medir a frequencia de hipoglicemia no mes em paciente-dia, criaremos uma matriz de tuples onde o primeiro valor do tuple é o mes e o segundo será zero.\n",
    "#O valor zero será substituido pelo valor real caso exista casos de hipoglicemia naquele mes."
   ]
  },
  {
   "cell_type": "code",
   "execution_count": null,
   "metadata": {},
   "outputs": [],
   "source": [
    "#Construimos a matriz-base"
   ]
  },
  {
   "cell_type": "code",
   "execution_count": null,
   "metadata": {},
   "outputs": [],
   "source": [
    "matriz_base =[]\n",
    "for i in range(1,13):\n",
    "    matriz_base.append((i,0))\n",
    "print(matriz_base)"
   ]
  },
  {
   "cell_type": "code",
   "execution_count": null,
   "metadata": {},
   "outputs": [],
   "source": [
    "n=[]\n",
    "new_matrix = matriz_base\n",
    "\n",
    "for i in range(len(numerator)):\n",
    "    n.append((numerator.index[i][1],numerator[i]))\n",
    "print(n)\n",
    "print(\"-----\")\n",
    "for i in range (0,len(n)):\n",
    "    for l in range(0,len(new_matrix)):\n",
    "        if n[i][0] == new_matrix[l][0]:\n",
    "            new_matrix[l] = n[i]\n",
    "n = new_matrix\n",
    "\n",
    "print(n)"
   ]
  },
  {
   "cell_type": "code",
   "execution_count": null,
   "metadata": {},
   "outputs": [],
   "source": []
  },
  {
   "cell_type": "code",
   "execution_count": null,
   "metadata": {},
   "outputs": [],
   "source": []
  },
  {
   "cell_type": "code",
   "execution_count": null,
   "metadata": {},
   "outputs": [],
   "source": [
    "denominator = df.groupby(['year', 'month', 'day','id']).id.count().groupby((['year', 'month'])).count()"
   ]
  },
  {
   "cell_type": "code",
   "execution_count": null,
   "metadata": {},
   "outputs": [],
   "source": [
    "matriz_base"
   ]
  },
  {
   "cell_type": "code",
   "execution_count": null,
   "metadata": {},
   "outputs": [],
   "source": [
    "matriz_base =[]\n",
    "for i in range(1,13):\n",
    "    matriz_base.append((i,0))\n",
    "\n",
    "d=[]\n",
    "new_matrix = matriz_base\n",
    "for i in range(len(denominator)):\n",
    "    d.append((denominator.index[i][1],denominator[i]))   \n",
    "\n",
    "print(d)\n",
    "print(\"-------\")\n",
    "for i in range (0,len(d)):\n",
    "    for l in range(0,len(matriz_base)):\n",
    "        if d[i][0] == matriz_base[l][0]:\n",
    "            new_matrix[l] = d[i]\n",
    "print (new_matrix)\n",
    "d = new_matrix\n"
   ]
  },
  {
   "cell_type": "code",
   "execution_count": null,
   "metadata": {},
   "outputs": [],
   "source": [
    "list_rate_hipoglicemia = []\n",
    "for i in range(len(d)):\n",
    "    if d[i][1]==0:\n",
    "        list_rate_hipoglicemia.append((i+1,None))\n",
    "    else:\n",
    "        rate = int(n[i][1])/int(d[i][1])\n",
    "        print (int(d[i][1]))\n",
    "        list_rate_hipoglicemia.append((i+1, round(rate,3)))\n",
    "                                         \n",
    "print (list_rate_hipoglicemia)\n",
    "                                         "
   ]
  },
  {
   "cell_type": "code",
   "execution_count": null,
   "metadata": {},
   "outputs": [],
   "source": [
    "#Decompoe o array de tuples onde o primeiro elemento do tuple é x e o segund é y\n",
    "#Criamos duas listas x e y com os respectivos valores"
   ]
  },
  {
   "cell_type": "code",
   "execution_count": null,
   "metadata": {},
   "outputs": [],
   "source": [
    "x = list(map(lambda data: data[0],array))\n",
    "x"
   ]
  },
  {
   "cell_type": "code",
   "execution_count": null,
   "metadata": {},
   "outputs": [],
   "source": [
    "y = list(map(lambda data: data[1],array))\n",
    "y"
   ]
  },
  {
   "cell_type": "code",
   "execution_count": null,
   "metadata": {},
   "outputs": [],
   "source": [
    "plt.plot(x,y,'r*')\n",
    "plt.xlim(0,12)\n"
   ]
  },
  {
   "cell_type": "code",
   "execution_count": null,
   "metadata": {},
   "outputs": [],
   "source": [
    "#Parte 4"
   ]
  },
  {
   "cell_type": "code",
   "execution_count": null,
   "metadata": {},
   "outputs": [],
   "source": [
    "list_rate_hipoglicemia"
   ]
  },
  {
   "cell_type": "code",
   "execution_count": null,
   "metadata": {},
   "outputs": [],
   "source": [
    "a =[]\n",
    "\n",
    "for i in range(len(list_avarege_glucose)):\n",
    "    for l in range(1,13):\n",
    "        if(list_avarege_glucose[i][0] == l):\n",
    "            a.append((l,list_avarege_glucose[i][1]))\n",
    "        else:\n",
    "            a.append((l,None))\n",
    "print (a)\n",
    "    \n",
    "    \n",
    "\n",
    "\n"
   ]
  },
  {
   "cell_type": "code",
   "execution_count": null,
   "metadata": {},
   "outputs": [],
   "source": [
    "x = list(map(lambda x: x[1] ,list_rate_hipoglicemia))\n",
    "x"
   ]
  },
  {
   "cell_type": "code",
   "execution_count": null,
   "metadata": {},
   "outputs": [],
   "source": [
    "y = list(map(lambda y: y[1], a))\n",
    "y"
   ]
  },
  {
   "cell_type": "code",
   "execution_count": null,
   "metadata": {},
   "outputs": [],
   "source": [
    "plt.plot(x,y,'r*')"
   ]
  },
  {
   "cell_type": "code",
   "execution_count": null,
   "metadata": {},
   "outputs": [],
   "source": []
  },
  {
   "cell_type": "code",
   "execution_count": null,
   "metadata": {},
   "outputs": [],
   "source": [
    "y = list(map(lambda y: y[1],list_avarege_glucose))\n",
    "y"
   ]
  },
  {
   "cell_type": "code",
   "execution_count": null,
   "metadata": {},
   "outputs": [],
   "source": [
    "list_avarege_glucose"
   ]
  },
  {
   "cell_type": "code",
   "execution_count": null,
   "metadata": {},
   "outputs": [],
   "source": [
    "plt.plot(x,y,'*')"
   ]
  },
  {
   "cell_type": "code",
   "execution_count": null,
   "metadata": {},
   "outputs": [],
   "source": []
  },
  {
   "cell_type": "code",
   "execution_count": null,
   "metadata": {},
   "outputs": [],
   "source": []
  },
  {
   "cell_type": "code",
   "execution_count": null,
   "metadata": {},
   "outputs": [],
   "source": [
    "rate_hipoglicemia.index(0.1)"
   ]
  },
  {
   "cell_type": "code",
   "execution_count": null,
   "metadata": {},
   "outputs": [],
   "source": []
  },
  {
   "cell_type": "code",
   "execution_count": null,
   "metadata": {},
   "outputs": [],
   "source": []
  },
  {
   "cell_type": "code",
   "execution_count": null,
   "metadata": {},
   "outputs": [],
   "source": []
  },
  {
   "cell_type": "code",
   "execution_count": null,
   "metadata": {},
   "outputs": [],
   "source": [
    "rh = np.array(rate_hipoglicemia)\n",
    "mg = np.array(mean_glucose)\n"
   ]
  },
  {
   "cell_type": "code",
   "execution_count": null,
   "metadata": {},
   "outputs": [],
   "source": [
    "x = rh\n",
    "y = mg\n",
    "\n",
    "plt.plot(x,y,'*')"
   ]
  },
  {
   "cell_type": "code",
   "execution_count": null,
   "metadata": {},
   "outputs": [],
   "source": [
    "data = np.array(mean_glucose.index)\n",
    "dias = list(map(lambda x: x[2], data))\n",
    "print (dias)"
   ]
  },
  {
   "cell_type": "markdown",
   "metadata": {},
   "source": [
    "limite para hipeglicemia de 10\n"
   ]
  },
  {
   "cell_type": "code",
   "execution_count": null,
   "metadata": {},
   "outputs": [],
   "source": []
  },
  {
   "cell_type": "code",
   "execution_count": null,
   "metadata": {},
   "outputs": [],
   "source": [
    "x = np.array(list(dias))\n",
    "y = np.array(mean_glucose['glucose'])\n",
    "\n",
    "\n",
    "lim = 135\n",
    "x1 = np.arange(1,31)\n",
    "y1 = list(map(lambda x: lim, linha_vermelha_x))\n",
    "yu = y + list(map(lambda x: x.std(),))\n",
    "yl = y - list(map(lambda x: x.std(),y))\n"
   ]
  },
  {
   "cell_type": "code",
   "execution_count": null,
   "metadata": {},
   "outputs": [],
   "source": [
    "\n",
    "\n"
   ]
  },
  {
   "cell_type": "code",
   "execution_count": null,
   "metadata": {},
   "outputs": [],
   "source": [
    "rate_hipoglicemia = [()]\n",
    "for i in range(0,len(d)):\n",
    "    if(int(d[i][l])==0):\n",
    "        rate_hipoglicemia.append((i,None))\n",
    "    r = int(n[i][1])/int(d[i][1])\n",
    "    rate_hipoglicemia.append((round(r,2)))\n",
    "\n",
    "print(rate_hipoglicemia)\n",
    "\n",
    "        "
   ]
  },
  {
   "cell_type": "code",
   "execution_count": null,
   "metadata": {},
   "outputs": [],
   "source": [
    "plt.plot(x1,y1,'red')\n",
    "plt.ylim = ()\n",
    "\n",
    "plt.plot(x,y,'bo')\n",
    "\n",
    "print(y1)\n",
    "plt.xlabel = ('Date')\n",
    "plt.title = ('Media das glicemias')\n",
    "y_min = y.min()-10\n",
    "if y.max()>lim:\n",
    "    y_max= y.max()\n",
    "y_max= lim\n",
    "plt.ylim(y_min,y_max)\n",
    "\n"
   ]
  },
  {
   "cell_type": "code",
   "execution_count": null,
   "metadata": {},
   "outputs": [],
   "source": [
    "dir(plt)\n",
    "help(plt.plot)\n"
   ]
  },
  {
   "cell_type": "code",
   "execution_count": null,
   "metadata": {},
   "outputs": [],
   "source": [
    "dff"
   ]
  },
  {
   "cell_type": "code",
   "execution_count": null,
   "metadata": {},
   "outputs": [],
   "source": [
    "df_glucose_more_180 = dff[dff['glucose']<70]\n",
    "\n"
   ]
  },
  {
   "cell_type": "code",
   "execution_count": null,
   "metadata": {},
   "outputs": [],
   "source": [
    "df_glucose_more_180"
   ]
  },
  {
   "cell_type": "code",
   "execution_count": null,
   "metadata": {},
   "outputs": [],
   "source": [
    "count_1 = df_glucose_more_180.groupby(['date','id']).count()\n",
    "count_1"
   ]
  },
  {
   "cell_type": "code",
   "execution_count": null,
   "metadata": {},
   "outputs": [],
   "source": [
    "count_1.groupby(['date']).count()"
   ]
  },
  {
   "cell_type": "code",
   "execution_count": null,
   "metadata": {},
   "outputs": [],
   "source": [
    "#df[['date']]\n",
    "for i in range(len(df)):\n",
    "    print (pd.to_datetime(df.loc[i][1][:10]))\n",
    "    \n",
    "\n",
    "\n",
    "\n",
    "\n",
    "\n",
    "#pd.to_datetime(df['date'], format='%d/%m/%Y')\n",
    "\n",
    "#df.dtypes\n",
    "#df['date'] = pd.to_datetime(df['date'])\n"
   ]
  },
  {
   "cell_type": "code",
   "execution_count": null,
   "metadata": {},
   "outputs": [],
   "source": [
    "\n",
    "    \n"
   ]
  },
  {
   "cell_type": "code",
   "execution_count": null,
   "metadata": {},
   "outputs": [],
   "source": []
  },
  {
   "cell_type": "code",
   "execution_count": null,
   "metadata": {},
   "outputs": [],
   "source": [
    "array = np.array(df['date'])\n",
    "print (array)\n",
    "for i in range(0,len(array)):\n",
    "    row = array[i]\n",
    "    row = row[:10]\n",
    "    print(i, row)\n"
   ]
  },
  {
   "cell_type": "code",
   "execution_count": null,
   "metadata": {},
   "outputs": [],
   "source": []
  },
  {
   "cell_type": "code",
   "execution_count": null,
   "metadata": {},
   "outputs": [],
   "source": []
  },
  {
   "cell_type": "code",
   "execution_count": null,
   "metadata": {},
   "outputs": [],
   "source": []
  },
  {
   "cell_type": "code",
   "execution_count": null,
   "metadata": {},
   "outputs": [],
   "source": []
  },
  {
   "cell_type": "code",
   "execution_count": null,
   "metadata": {},
   "outputs": [],
   "source": []
  },
  {
   "cell_type": "code",
   "execution_count": null,
   "metadata": {},
   "outputs": [],
   "source": []
  },
  {
   "cell_type": "code",
   "execution_count": null,
   "metadata": {},
   "outputs": [],
   "source": []
  },
  {
   "cell_type": "code",
   "execution_count": null,
   "metadata": {},
   "outputs": [],
   "source": [
    "show_glucose_greater_then_500(array)"
   ]
  },
  {
   "cell_type": "code",
   "execution_count": null,
   "metadata": {},
   "outputs": [],
   "source": [
    "array = np.array(df)\n",
    "array"
   ]
  },
  {
   "cell_type": "code",
   "execution_count": null,
   "metadata": {},
   "outputs": [],
   "source": [
    "def delete_glucose_greater_then_500(array):\n",
    "    \n",
    "    list_index = np.array([])\n",
    "    new_array = np.array([])\n",
    "    \n",
    "    for r in range(0,len(array)):\n",
    "        row = array[r]\n",
    "        if row[2] == '>500':\n",
    "            #print(row)\n",
    "            list_index = np.append(list_index,[r])\n",
    "            #print (list_index)\n",
    "        \n",
    "        new_array = np.delete(array,list_index,axis=0)\n",
    "        \n",
    "    print(f\"Preview lenth of original array:\", len(array))\n",
    "    print(f\"New lenth of array:\", len(new_array))\n",
    "        \n",
    "        \n",
    "    return new_array\n",
    "\n"
   ]
  },
  {
   "cell_type": "code",
   "execution_count": null,
   "metadata": {},
   "outputs": [],
   "source": [
    "delete_glucose_greater_then_500(array)"
   ]
  },
  {
   "cell_type": "code",
   "execution_count": null,
   "metadata": {},
   "outputs": [],
   "source": [
    "def delete_glucose_less_then_20(array):\n",
    "    \n",
    "    list_index = np.array([])\n",
    "    new_array = np.array([])\n",
    "    \n",
    "    for r in range(0,len(array)):\n",
    "        row = array[r]\n",
    "        if row[2] == '<20':\n",
    "            print(row)\n",
    "            list_index = np.append(list_index,[r])\n",
    "            #print (list_index)\n",
    "        \n",
    "        new_array = np.delete(array,list_index,axis=0)\n",
    "        \n",
    "    print(f\"Preview lenth of original array:\", len(array))\n",
    "    print(f\"New lenth of array:\", len(new_array))\n",
    "        \n",
    "        \n",
    "    return new_array"
   ]
  },
  {
   "cell_type": "code",
   "execution_count": null,
   "metadata": {},
   "outputs": [],
   "source": [
    "delete_glucose_less_then_20(array)"
   ]
  },
  {
   "cell_type": "code",
   "execution_count": null,
   "metadata": {},
   "outputs": [],
   "source": [
    "def show_excluded_field_equal_to_yes(array):\n",
    "    \n",
    "    \n",
    "    for r in range(0,len(array)):\n",
    "        row = array[r]\n",
    "        if row[3] == \"Yes\":\n",
    "            print(row)\n",
    "    \n",
    "                                    "
   ]
  },
  {
   "cell_type": "code",
   "execution_count": null,
   "metadata": {},
   "outputs": [],
   "source": [
    "show_excluded_field_equal_to_yes(array)"
   ]
  },
  {
   "cell_type": "code",
   "execution_count": null,
   "metadata": {},
   "outputs": [],
   "source": [
    "def delete_excluded_field_equal_to_yes(array):\n",
    "    list_index = np.array([])\n",
    "    new_array = np.array([])\n",
    "    \n",
    "    for r in range(0,len(array)):\n",
    "        row = array[r]\n",
    "        if row[3] == 'Yes':\n",
    "            print(row)\n",
    "            list_index = np.append(list_index,[r])\n",
    "            #print (list_index)\n",
    "        \n",
    "        new_array = np.delete(array,list_index,axis=0)\n",
    "        \n",
    "    print(f\"Preview lenth of original array:\", len(array))\n",
    "    print(f\"New lenth of array:\", len(new_array))\n",
    "    if pd.isnull(row).any():\n",
    "\n",
    "    return new_array\n",
    "    \n",
    "    \n",
    "    "
   ]
  },
  {
   "cell_type": "code",
   "execution_count": null,
   "metadata": {},
   "outputs": [],
   "source": [
    "delete_excluded_field_equal_to_yes(array)"
   ]
  },
  {
   "cell_type": "code",
   "execution_count": null,
   "metadata": {},
   "outputs": [],
   "source": [
    "def remove_any_null_from_array(array):\n",
    "    list_index = np.array([])\n",
    "    new_array = np.array([])\n",
    "    \n",
    "    for r in range(0,len(array)):\n",
    "        row = array[r]\n",
    "        if pd.isnull(row).any():\n",
    "            print(row)\n",
    "            list_index = np.append(list_index,[r])\n",
    "            #print (list_index)\n",
    "        \n",
    "        new_array = np.delete(array,list_index,axis=0)\n",
    "        \n",
    "    print(f\"Preview lenth of original array:\", len(array))\n",
    "    print(f\"New lenth of array:\", len(new_array))\n",
    "    \n",
    "\n",
    "    return new_array"
   ]
  },
  {
   "cell_type": "code",
   "execution_count": null,
   "metadata": {},
   "outputs": [],
   "source": [
    "remove_any_null_from_array(array)"
   ]
  },
  {
   "cell_type": "code",
   "execution_count": null,
   "metadata": {},
   "outputs": [],
   "source": [
    "def change_glucose_greater_then_500(array):\n",
    "    \n",
    "    new_array = np.array([])\n",
    "    list_index = np.array([])\n",
    "    \n",
    "    for r in range(0,len(array)):\n",
    "        row = array[r]\n",
    "        print(r)\n",
    "        \n",
    "        if row[2] == '>500':\n",
    "            list_index = np.append(list_index,[r])\n",
    "            \n",
    "            \n",
    "        new_array = \n",
    "        \n",
    "    return new_array"
   ]
  },
  {
   "cell_type": "code",
   "execution_count": null,
   "metadata": {},
   "outputs": [],
   "source": []
  },
  {
   "cell_type": "code",
   "execution_count": null,
   "metadata": {},
   "outputs": [],
   "source": [
    "change_glucose_greater_then_500(array)"
   ]
  },
  {
   "cell_type": "code",
   "execution_count": null,
   "metadata": {},
   "outputs": [],
   "source": []
  },
  {
   "cell_type": "code",
   "execution_count": null,
   "metadata": {},
   "outputs": [],
   "source": []
  },
  {
   "cell_type": "code",
   "execution_count": null,
   "metadata": {},
   "outputs": [],
   "source": []
  },
  {
   "cell_type": "code",
   "execution_count": null,
   "metadata": {},
   "outputs": [],
   "source": []
  },
  {
   "cell_type": "code",
   "execution_count": null,
   "metadata": {},
   "outputs": [],
   "source": []
  },
  {
   "cell_type": "code",
   "execution_count": null,
   "metadata": {},
   "outputs": [],
   "source": []
  },
  {
   "cell_type": "code",
   "execution_count": null,
   "metadata": {},
   "outputs": [],
   "source": []
  },
  {
   "cell_type": "code",
   "execution_count": null,
   "metadata": {},
   "outputs": [],
   "source": []
  },
  {
   "cell_type": "code",
   "execution_count": null,
   "metadata": {},
   "outputs": [],
   "source": []
  },
  {
   "cell_type": "code",
   "execution_count": null,
   "metadata": {},
   "outputs": [],
   "source": []
  },
  {
   "cell_type": "code",
   "execution_count": null,
   "metadata": {},
   "outputs": [],
   "source": []
  },
  {
   "cell_type": "code",
   "execution_count": null,
   "metadata": {},
   "outputs": [],
   "source": []
  },
  {
   "cell_type": "markdown",
   "metadata": {},
   "source": [
    "Renomeamos as colunas"
   ]
  },
  {
   "cell_type": "code",
   "execution_count": null,
   "metadata": {},
   "outputs": [],
   "source": []
  },
  {
   "cell_type": "code",
   "execution_count": null,
   "metadata": {},
   "outputs": [],
   "source": [
    "a = np.array(df)\n",
    "print (len(a))\n",
    "new_a = remove_any_null_from_array(a)\n",
    "print (len(new_a))\n"
   ]
  },
  {
   "cell_type": "code",
   "execution_count": null,
   "metadata": {},
   "outputs": [],
   "source": []
  },
  {
   "cell_type": "code",
   "execution_count": null,
   "metadata": {},
   "outputs": [],
   "source": [
    "#df.columns = ['id','date','glicose']"
   ]
  },
  {
   "cell_type": "code",
   "execution_count": null,
   "metadata": {},
   "outputs": [],
   "source": [
    "change_glucose_greater_then_500(new_a)"
   ]
  },
  {
   "cell_type": "markdown",
   "metadata": {},
   "source": [
    "Filtra um dataframe com os valores (ainda em str) '>500', pega seus indices e joga num array chamado i\n"
   ]
  },
  {
   "cell_type": "code",
   "execution_count": null,
   "metadata": {},
   "outputs": [],
   "source": [
    "#i = df[df['glicose'] == '>500'].index\n",
    "#i"
   ]
  },
  {
   "cell_type": "markdown",
   "metadata": {},
   "source": [
    "Retira as linhas com os indeces filtrados"
   ]
  },
  {
   "cell_type": "code",
   "execution_count": null,
   "metadata": {},
   "outputs": [],
   "source": [
    "#df = df.drop(i, axis = 0)"
   ]
  },
  {
   "cell_type": "markdown",
   "metadata": {},
   "source": [
    "Faz a mesma coisa com as glicoses '<20'"
   ]
  },
  {
   "cell_type": "code",
   "execution_count": null,
   "metadata": {},
   "outputs": [],
   "source": [
    "#i = df[df['glicose'] == '<20'].index"
   ]
  },
  {
   "cell_type": "code",
   "execution_count": null,
   "metadata": {},
   "outputs": [],
   "source": [
    "#df = df.drop(i, axis = 0)"
   ]
  },
  {
   "cell_type": "code",
   "execution_count": null,
   "metadata": {},
   "outputs": [],
   "source": []
  },
  {
   "cell_type": "markdown",
   "metadata": {},
   "source": [
    "Faz a mesma coisa com as glicoses NaN"
   ]
  },
  {
   "cell_type": "code",
   "execution_count": null,
   "metadata": {},
   "outputs": [],
   "source": [
    "df['date'] = df.date.astype('datetime64')\n",
    "df['glicose'] = df.glicose.astype('float64')"
   ]
  },
  {
   "cell_type": "code",
   "execution_count": null,
   "metadata": {},
   "outputs": [],
   "source": []
  },
  {
   "cell_type": "code",
   "execution_count": null,
   "metadata": {},
   "outputs": [],
   "source": [
    "## df['year'] = df['date'].dt.year\n",
    "#df['month'] = df['date'].dt.month\n",
    "#df['day'] = df['date'].dt.day\n",
    "#df.drop(['date'], axis = 1)\n",
    "\n",
    "#print(df)\n",
    "\n",
    "\n",
    "\n",
    "#grouped = df.groupby(['year', 'month', 'day', 'id']).mean()\n",
    "#grouped"
   ]
  },
  {
   "cell_type": "code",
   "execution_count": null,
   "metadata": {},
   "outputs": [],
   "source": []
  },
  {
   "cell_type": "code",
   "execution_count": null,
   "metadata": {
    "scrolled": true
   },
   "outputs": [],
   "source": [
    "media_mensal = grouped.groupby(['year','month']).mean()\n",
    "\n",
    "media_mensal\n"
   ]
  },
  {
   "cell_type": "code",
   "execution_count": null,
   "metadata": {},
   "outputs": [],
   "source": []
  },
  {
   "cell_type": "code",
   "execution_count": null,
   "metadata": {},
   "outputs": [],
   "source": [
    "#array = np.array([[],[]])\n",
    "\n",
    "\n",
    "for key, value in dic.items():\n",
    "    \n",
    "        diaria = np.array(key)\n",
    "        #print(diaria)\n",
    "        media = np.array(value).mean()\n",
    "        type(diaria)\n",
    "        \n",
    "        print(np.array(int(media)))\n",
    "        \n",
    "       # row = np.append(diaria,[int_media])\n",
    "        \n",
    "    \n",
    "       \n",
    "        "
   ]
  },
  {
   "cell_type": "code",
   "execution_count": null,
   "metadata": {},
   "outputs": [],
   "source": [
    "print (array[1])\n"
   ]
  },
  {
   "cell_type": "code",
   "execution_count": null,
   "metadata": {},
   "outputs": [],
   "source": [
    "#df = df.drop(['Operator Name'], axix = 1)"
   ]
  },
  {
   "cell_type": "code",
   "execution_count": null,
   "metadata": {},
   "outputs": [],
   "source": [
    "#help (pd.to_datetime)"
   ]
  },
  {
   "cell_type": "code",
   "execution_count": null,
   "metadata": {},
   "outputs": [],
   "source": [
    "\n",
    "#f = df[df['day']==19]\n",
    "#f.groupby(['id']).glucose.mean()\n",
    "\n",
    "\n",
    "#formate_to_date = datetime.datetime.strptime(str(date),'%d/%m/%Y')\n",
    "\n",
    "#for i in range(len(df)):\n",
    "    \n",
    "   # row = np.array(df.loc[i,:])\n",
    "    \n",
    "   # date = row[1][0:10]\n",
    "   # glucose = row[2]\n",
    "   # formate_to_date = datetime.datetime.strptime(str(date),'%d/%m/%Y')\n",
    "   # format_to_float = float(glucose)\n",
    "   # df.loc[i,'date']=formate_to_date\n",
    "   # df.loc[i,'glucose']=format_to_float\n",
    "   # print (row)\n",
    "    \n",
    "    #print(format_to_float, formate_to_date)\n",
    "    \n",
    "\n",
    "    #row = datetime.datetime.strptime(str(df.loc[i,['date']]),'%d/%m/%Y')\n",
    "    #print (row)"
   ]
  }
 ],
 "metadata": {
  "kernelspec": {
   "display_name": "Python 3",
   "language": "python",
   "name": "python3"
  },
  "language_info": {
   "codemirror_mode": {
    "name": "ipython",
    "version": 3
   },
   "file_extension": ".py",
   "mimetype": "text/x-python",
   "name": "python",
   "nbconvert_exporter": "python",
   "pygments_lexer": "ipython3",
   "version": "3.6.5"
  }
 },
 "nbformat": 4,
 "nbformat_minor": 2
}
